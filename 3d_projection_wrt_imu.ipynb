{
 "cells": [
  {
   "cell_type": "code",
   "execution_count": 1,
   "metadata": {},
   "outputs": [],
   "source": [
    "%load_ext autoreload\n",
    "%autoreload 2"
   ]
  },
  {
   "cell_type": "markdown",
   "metadata": {},
   "source": [
    "# Imports"
   ]
  },
  {
   "cell_type": "code",
   "execution_count": 2,
   "metadata": {},
   "outputs": [],
   "source": [
    "import math\n",
    "import serial\n",
    "from threading import Thread\n",
    "import time\n",
    "import re\n",
    "\n",
    "import pylab as pl\n",
    "from IPython import display\n",
    "import matplotlib.pyplot as plt\n",
    "\n",
    "import cv2\n",
    "import numpy as np\n",
    "from utils.depth_manager import *\n",
    "from utils.projections import *\n",
    "from tqdm import tqdm"
   ]
  },
  {
   "cell_type": "code",
   "execution_count": 3,
   "metadata": {},
   "outputs": [],
   "source": [
    "%matplotlib qt"
   ]
  },
  {
   "cell_type": "code",
   "execution_count": 4,
   "metadata": {},
   "outputs": [],
   "source": [
    "# connect to the Serial\n",
    "SERIAL_CONNECTION = serial.Serial('COM3', 9600)\n",
    "time.sleep(2)"
   ]
  },
  {
   "cell_type": "markdown",
   "metadata": {},
   "source": [
    "# Utils"
   ]
  },
  {
   "cell_type": "code",
   "execution_count": 5,
   "metadata": {},
   "outputs": [],
   "source": [
    "def parse_serial(serial_msg):\n",
    "    \"\"\"\n",
    "    Function to parse serial data to extract float values\n",
    "    format 'x:19.34 y:23.01 z:-33.83' to x, y, z float values\n",
    "\n",
    "    Args:\n",
    "        - (str) string with format 'x:19.34 y:23.01 z:-33.83'\n",
    "    Return:\n",
    "        - (list) x, y, z float values\n",
    "    \"\"\"\n",
    "    xyz_list = re.findall('[-+]?[0-9]*\\.?[0-9]*', serial_msg)\n",
    "    return [float(i) for i in filter(lambda item: item, xyz_list)]"
   ]
  },
  {
   "cell_type": "code",
   "execution_count": 6,
   "metadata": {},
   "outputs": [],
   "source": [
    "def UpdateOrientation(ser):\n",
    "    \"\"\"\n",
    "    Function to integration the x data from the Gyroscope\n",
    "    and update the global variable x_orientation with the new value\n",
    "\n",
    "    Args:\n",
    "        - (serial.Serial) serial to get the gyroscope data\n",
    "    \"\"\"\n",
    "    global X_ORIENTATION\n",
    "\n",
    "    while True:\n",
    "        serial_msg_bytes = ser.readline()\n",
    "        serial_msg = serial_msg_bytes.decode()\n",
    "        dx, dy, dz = parse_serial(serial_msg)\n",
    "        \n",
    "        # The gyroscope values are in degrees-per-second\n",
    "        # divide each value by the number of samples per second\n",
    "        dx_normalized = dx / GYROSCOPE_SAMPLE_RATE;\n",
    "\n",
    "        # remove noise\n",
    "        if(abs(dx_normalized) > 0.004):\n",
    "            # update orientation\n",
    "            X_ORIENTATION = X_ORIENTATION - dx_normalized*1.25\n",
    "            X_ORIENTATION = X_ORIENTATION%360"
   ]
  },
  {
   "cell_type": "markdown",
   "metadata": {},
   "source": [
    "# Update orientation in real time"
   ]
  },
  {
   "cell_type": "code",
   "execution_count": 19,
   "metadata": {},
   "outputs": [],
   "source": [
    "# initialize x orientation\n",
    "X_ORIENTATION = 0\n",
    "\n",
    "# 119 got from Arduino with IMU.gyroscopeSampleRate();\n",
    "GYROSCOPE_SAMPLE_RATE= 119"
   ]
  },
  {
   "cell_type": "code",
   "execution_count": 8,
   "metadata": {},
   "outputs": [],
   "source": [
    "# run the thread to update the x orientation in real time\n",
    "Thread(target=UpdateOrientation, args=(SERIAL_CONNECTION,)).start()"
   ]
  },
  {
   "cell_type": "markdown",
   "metadata": {},
   "source": [
    "# Get depth image and do projection"
   ]
  },
  {
   "cell_type": "code",
   "execution_count": 9,
   "metadata": {},
   "outputs": [],
   "source": [
    "INTERPRETER = get_tflite_interpreter(\n",
    "    \"https://tfhub.dev/intel/lite-model/midas/v2_1_small/1/lite/1?lite-format=tflite\",\n",
    "    \"model/midas_v2_1_small.tflite\")"
   ]
  },
  {
   "cell_type": "markdown",
   "metadata": {},
   "source": [
    "# Calcul projection in real time"
   ]
  },
  {
   "cell_type": "code",
   "execution_count": 20,
   "metadata": {},
   "outputs": [
    {
     "name": "stdin",
     "output_type": "stream",
     "text": [
      "Min distance:  0.3\n",
      "Max distance:  3\n",
      "Min distance:  0.3\n",
      "Max distance:  2\n",
      "Min distance:  0.5\n",
      "Max distance:  1\n",
      "Min distance:  0.7\n",
      "Max distance:  1\n",
      "Min distance:  0.8\n",
      "Max distance:  3\n",
      "Min distance:  1\n",
      "Max distance:  3\n",
      "Min distance:  0.5\n",
      "Max distance:  4\n",
      "Min distance:  0.5\n",
      "Max distance:  3\n",
      "Min distance:  0.9\n",
      "Max distance:  2\n",
      "Min distance:  0.5\n",
      "Max distance:  3\n",
      "Min distance:  0.5\n",
      "Max distance:  4\n",
      "Min distance:  0.5\n",
      "Max distance:  4\n"
     ]
    }
   ],
   "source": [
    "IMG_FROM_WEBCAM = True\n",
    "\n",
    "if IMG_FROM_WEBCAM:\n",
    "    VID = cv2.VideoCapture(0)\n",
    "else:\n",
    "    # Get input image from disk\n",
    "    IMG = cv2.imread('images/dog.jpg')\n",
    "    RGB_IMG = cv2.cvtColor(IMG, cv2.COLOR_BGR2RGB)\n",
    "\n",
    "FIG_SIMULATION = plt.figure()\n",
    "\n",
    "POINTS_IN_NED = np.array([])\n",
    "DEPTH_VALUES = []\n",
    "\n",
    "PROJECT_DEPTH = True\n",
    "\n",
    "DEGREES_INTERVAL = 30\n",
    "\n",
    "ORIENTATIONS_DONE = []\n",
    "ORIENTATIONS_TODO = [orientation for orientation\n",
    "                     in range(0, 359, DEGREES_INTERVAL)]\n",
    "\n",
    "DEPTH_MAP = np.ones((DEPTH_HEIGHT, DEPTH_WIDTH, 1), np.uint8)\n",
    "\n",
    "MIN_DEPTH_VALUE = 1\n",
    "MAX_DEPTH_VALUE = 4\n",
    "\n",
    "OVERLAPS_IMG_DEPTH = {}\n",
    "CORNERS_DISTANCE = {}\n",
    "\n",
    "try:\n",
    "    while True:\n",
    "        if IMG_FROM_WEBCAM:\n",
    "            ret, frame = VID.read()\n",
    "            RGB_IMG = cv2.cvtColor(frame, cv2.COLOR_BGR2RGB)\n",
    "\n",
    "        DEPTH_MAP, POINTS_IN_NED, DEPTH_VALUES = \\\n",
    "        plot_env(FIG_SIMULATION, X_ORIENTATION, POINTS_IN_NED, DEPTH_VALUES,\n",
    "                 RGB_IMG, INTERPRETER, PROJECT_DEPTH, ORIENTATIONS_DONE,\n",
    "                 ORIENTATIONS_TODO, DEPTH_MAP, OVERLAPS_IMG_DEPTH,\n",
    "                 CORNERS_DISTANCE, pourcentage_to_project=1,\n",
    "                 min_dist=MIN_DEPTH_VALUE, max_dist=MAX_DEPTH_VALUE)\n",
    "\n",
    "        # the first depth map was rescale, the next ones will be\n",
    "        # rescale thank to the previous one to avoid having\n",
    "        # a discontinuous 3D scene\n",
    "        if len(ORIENTATIONS_DONE) > 0:\n",
    "            MIN_DEPTH_VALUE = None\n",
    "            MAX_DEPTH_VALUE = None\n",
    "\n",
    "        if len(ORIENTATIONS_TODO) == 0:\n",
    "            break\n",
    "except KeyboardInterrupt:\n",
    "    pass    \n",
    "\n",
    "plt.show()"
   ]
  },
  {
   "cell_type": "code",
   "execution_count": 27,
   "metadata": {},
   "outputs": [
    {
     "data": {
      "text/plain": [
       "{330: [array([2.0253177], dtype=float32), array([0.7247914], dtype=float32)],\n",
       " 0: [array([0.7247914], dtype=float32), array([1.3182899], dtype=float32)],\n",
       " 30: [array([0.45034236], dtype=float32), array([0.7247914], dtype=float32)],\n",
       " 60: [array([0.40453923], dtype=float32), array([0.45034236], dtype=float32)],\n",
       " 90: [array([0.49493006], dtype=float32), array([0.40453923], dtype=float32)],\n",
       " 120: [array([0.71175236], dtype=float32), array([0.49493006], dtype=float32)],\n",
       " 150: [array([0.18636173], dtype=float32), array([0.71175236], dtype=float32)],\n",
       " 180: [array([0.36665967], dtype=float32), array([0.18636173], dtype=float32)],\n",
       " 210: [array([0.49833316], dtype=float32), array([0.36665967], dtype=float32)],\n",
       " 240: [array([0.45840484], dtype=float32), array([0.49833316], dtype=float32)],\n",
       " 270: [array([0.42509872], dtype=float32), array([0.45840484], dtype=float32)],\n",
       " 300: [array([0.7247914], dtype=float32), array([0.5207275], dtype=float32)]}"
      ]
     },
     "execution_count": 27,
     "metadata": {},
     "output_type": "execute_result"
    }
   ],
   "source": [
    "CORNERS_DISTANCE"
   ]
  },
  {
   "cell_type": "code",
   "execution_count": null,
   "metadata": {},
   "outputs": [],
   "source": []
  }
 ],
 "metadata": {
  "kernelspec": {
   "display_name": "Python 3",
   "language": "python",
   "name": "python3"
  },
  "language_info": {
   "codemirror_mode": {
    "name": "ipython",
    "version": 3
   },
   "file_extension": ".py",
   "mimetype": "text/x-python",
   "name": "python",
   "nbconvert_exporter": "python",
   "pygments_lexer": "ipython3",
   "version": "3.8.5"
  }
 },
 "nbformat": 4,
 "nbformat_minor": 4
}
