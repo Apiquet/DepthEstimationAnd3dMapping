{
 "cells": [
  {
   "cell_type": "code",
   "execution_count": 1,
   "metadata": {},
   "outputs": [],
   "source": [
    "%load_ext autoreload\n",
    "%autoreload 2"
   ]
  },
  {
   "cell_type": "markdown",
   "metadata": {},
   "source": [
    "# Imports"
   ]
  },
  {
   "cell_type": "code",
   "execution_count": 2,
   "metadata": {},
   "outputs": [],
   "source": [
    "import argparse\n",
    "from threading import Thread\n",
    "import re\n",
    "import time\n",
    "\n",
    "import cv2\n",
    "import matplotlib.pyplot as plt\n",
    "import numpy as np\n",
    "import serial\n",
    "\n",
    "from utils import depth_manager\n",
    "from utils import projections"
   ]
  },
  {
   "cell_type": "code",
   "execution_count": 3,
   "metadata": {},
   "outputs": [],
   "source": [
    "%matplotlib qt"
   ]
  },
  {
   "cell_type": "code",
   "execution_count": 4,
   "metadata": {},
   "outputs": [],
   "source": [
    "# connect to the Serial\n",
    "SERIAL_CONNECTION = serial.Serial('COM3', 9600)\n",
    "time.sleep(2)"
   ]
  },
  {
   "cell_type": "markdown",
   "metadata": {},
   "source": [
    "# Utils"
   ]
  },
  {
   "cell_type": "code",
   "execution_count": 5,
   "metadata": {},
   "outputs": [],
   "source": [
    "def parse_serial(serial_msg):\n",
    "    \"\"\"\n",
    "    Function to parse serial data to extract float values\n",
    "    format 'x:19.34 y:23.01 z:-33.83' to x, y, z float values\n",
    "\n",
    "    Args:\n",
    "        - (str) string with format 'x:19.34 y:23.01 z:-33.83'\n",
    "    Return:\n",
    "        - (list) x, y, z float values\n",
    "    \"\"\"\n",
    "    xyz_list = re.findall('[-+]?[0-9]*\\.?[0-9]*', serial_msg)\n",
    "    return [float(i) for i in filter(lambda item: item, xyz_list)]"
   ]
  },
  {
   "cell_type": "code",
   "execution_count": 6,
   "metadata": {},
   "outputs": [],
   "source": [
    "def update_orientation(ser):\n",
    "    \"\"\"\n",
    "    Function to integration the x data from the Gyroscope\n",
    "    and update the global variable x_orientation with the new value\n",
    "\n",
    "    Args:\n",
    "        - (serial.Serial) serial to get the gyroscope data\n",
    "    \"\"\"\n",
    "    global X_ORIENTATION\n",
    "\n",
    "    while True:\n",
    "        serial_msg_bytes = ser.readline()\n",
    "        serial_msg = serial_msg_bytes.decode()\n",
    "        dx, dy, dz = parse_serial(serial_msg)\n",
    "        \n",
    "        # The gyroscope values are in degrees-per-second\n",
    "        # divide each value by the number of samples per second\n",
    "        dx_normalized = dx / GYROSCOPE_SAMPLE_RATE\n",
    "\n",
    "        # remove noise\n",
    "        if abs(dx_normalized) > 0.004:\n",
    "            # update orientation\n",
    "            X_ORIENTATION = X_ORIENTATION - dx_normalized*1.25\n",
    "            X_ORIENTATION = X_ORIENTATION%360"
   ]
  },
  {
   "cell_type": "markdown",
   "metadata": {},
   "source": [
    "# Update orientation in real time"
   ]
  },
  {
   "cell_type": "code",
   "execution_count": 7,
   "metadata": {},
   "outputs": [],
   "source": [
    "# initialize x orientation\n",
    "X_ORIENTATION = 0\n",
    "\n",
    "# 119 got from Arduino with IMU.gyroscopeSampleRate();\n",
    "GYROSCOPE_SAMPLE_RATE = 119"
   ]
  },
  {
   "cell_type": "code",
   "execution_count": 8,
   "metadata": {},
   "outputs": [],
   "source": [
    "# run the thread to update the x orientation in real time\n",
    "Thread(target=update_orientation, args=(SERIAL_CONNECTION,)).start()"
   ]
  },
  {
   "cell_type": "markdown",
   "metadata": {},
   "source": [
    "# Get depth image and do projection"
   ]
  },
  {
   "cell_type": "code",
   "execution_count": 9,
   "metadata": {},
   "outputs": [],
   "source": [
    "INTERPRETER = depth_manager.get_tflite_interpreter(\n",
    "    \"https://tfhub.dev/intel/lite-model/midas/v2_1_small/1/lite/1?lite-format=tflite\",\n",
    "    \"model/midas_v2_1_small.tflite\")"
   ]
  },
  {
   "cell_type": "markdown",
   "metadata": {},
   "source": [
    "# Input image"
   ]
  },
  {
   "cell_type": "code",
   "execution_count": 10,
   "metadata": {},
   "outputs": [],
   "source": [
    "IMG_FROM_WEBCAM = True\n",
    "\n",
    "if IMG_FROM_WEBCAM:\n",
    "    VID = cv2.VideoCapture(0)\n",
    "    # get first image for depth calculation\n",
    "    ret, frame = VID.read()\n",
    "    RGB_IMG = cv2.cvtColor(frame, cv2.COLOR_BGR2RGB)\n",
    "else:\n",
    "    # Get input image from disk\n",
    "    IMG = cv2.imread('images/dog.jpg')\n",
    "    RGB_IMG = cv2.cvtColor(IMG, cv2.COLOR_BGR2RGB)"
   ]
  },
  {
   "cell_type": "markdown",
   "metadata": {},
   "source": [
    "# Calcul projection in real time"
   ]
  },
  {
   "cell_type": "code",
   "execution_count": 6,
   "metadata": {},
   "outputs": [],
   "source": [
    "PATH_TO_SAVE_SCENE = \"3d_scene/\""
   ]
  },
  {
   "cell_type": "code",
   "execution_count": 5,
   "metadata": {},
   "outputs": [
    {
     "ename": "NameError",
     "evalue": "name 'RGB_IMG' is not defined",
     "output_type": "error",
     "traceback": [
      "\u001b[1;31m---------------------------------------------------------------------------\u001b[0m",
      "\u001b[1;31mNameError\u001b[0m                                 Traceback (most recent call last)",
      "\u001b[1;32m<ipython-input-5-73f60e78c775>\u001b[0m in \u001b[0;36m<module>\u001b[1;34m\u001b[0m\n\u001b[0;32m     12\u001b[0m                      in range(0, 359, DEGREES_INTERVAL)]\n\u001b[0;32m     13\u001b[0m \u001b[1;33m\u001b[0m\u001b[0m\n\u001b[1;32m---> 14\u001b[1;33m \u001b[0mDEPTH_MAP\u001b[0m \u001b[1;33m=\u001b[0m \u001b[0mdepth_manager\u001b[0m\u001b[1;33m.\u001b[0m\u001b[0mrun_tflite_interpreter\u001b[0m\u001b[1;33m(\u001b[0m\u001b[0mRGB_IMG\u001b[0m\u001b[1;33m,\u001b[0m \u001b[0mINTERPRETER\u001b[0m\u001b[1;33m)\u001b[0m\u001b[1;33m\u001b[0m\u001b[1;33m\u001b[0m\u001b[0m\n\u001b[0m\u001b[0;32m     15\u001b[0m \u001b[1;33m\u001b[0m\u001b[0m\n\u001b[0;32m     16\u001b[0m \u001b[0mOVERLAPS_IMG_DEPTH\u001b[0m \u001b[1;33m=\u001b[0m \u001b[1;33m{\u001b[0m\u001b[1;33m}\u001b[0m\u001b[1;33m\u001b[0m\u001b[1;33m\u001b[0m\u001b[0m\n",
      "\u001b[1;31mNameError\u001b[0m: name 'RGB_IMG' is not defined"
     ]
    }
   ],
   "source": [
    "FIG_SIMULATION = plt.figure()\n",
    "\n",
    "POINTS_IN_3D = np.array([])\n",
    "DEPTH_VALUES = []\n",
    "\n",
    "PROJECT_DEPTH = True\n",
    "\n",
    "DEGREES_INTERVAL = 120\n",
    "\n",
    "ORIENTATIONS_DONE = []\n",
    "ORIENTATIONS_TODO = [orientation for orientation\n",
    "                     in range(0, 359, DEGREES_INTERVAL)]\n",
    "\n",
    "DEPTH_MAP = depth_manager.run_tflite_interpreter(RGB_IMG, INTERPRETER)\n",
    "\n",
    "OVERLAPS_IMG_DEPTH = {}\n",
    "CORNERS_DISTANCE = {}\n",
    "\n",
    "PERCENTAGE_MARGIN_ON_DEPTH = 2"
   ]
  },
  {
   "cell_type": "code",
   "execution_count": 12,
   "metadata": {},
   "outputs": [
    {
     "name": "stdin",
     "output_type": "stream",
     "text": [
      "Min distance:  5\n",
      "Max distance:  15\n",
      "Min distance:  5\n",
      "Max distance:  40\n",
      "Min distance:  5\n",
      "Max distance:  10\n"
     ]
    }
   ],
   "source": [
    "try:\n",
    "    while True:\n",
    "        if IMG_FROM_WEBCAM:\n",
    "            ret, frame = VID.read()\n",
    "            RGB_IMG = cv2.cvtColor(frame, cv2.COLOR_BGR2RGB)\n",
    "\n",
    "        if ret:\n",
    "            DEPTH_MAP, POINTS_IN_3D, DEPTH_VALUES = \\\n",
    "            projections.plot_env(\n",
    "                FIG_SIMULATION, X_ORIENTATION, POINTS_IN_3D, DEPTH_VALUES,\n",
    "                RGB_IMG, INTERPRETER, ORIENTATIONS_DONE,\n",
    "                ORIENTATIONS_TODO, DEPTH_MAP, OVERLAPS_IMG_DEPTH,\n",
    "                CORNERS_DISTANCE, per_mil_to_keep=1, project_depth=PROJECT_DEPTH,\n",
    "                percentage_margin_on_depth=PERCENTAGE_MARGIN_ON_DEPTH)\n",
    "\n",
    "        # stop if all todo orientations were done\n",
    "        if not ORIENTATIONS_TODO:\n",
    "            projections.save_3d_scene(PATH_TO_SAVE_SCENE, POINTS_IN_3D, DEPTH_VALUES)\n",
    "            break\n",
    "except KeyboardInterrupt:\n",
    "    pass"
   ]
  },
  {
   "cell_type": "markdown",
   "metadata": {},
   "source": [
    "# Display saved scene"
   ]
  },
  {
   "cell_type": "code",
   "execution_count": 9,
   "metadata": {},
   "outputs": [
    {
     "ename": "NameError",
     "evalue": "name 'DEPTH_VALUES' is not defined",
     "output_type": "error",
     "traceback": [
      "\u001b[1;31m---------------------------------------------------------------------------\u001b[0m",
      "\u001b[1;31mNameError\u001b[0m                                 Traceback (most recent call last)",
      "\u001b[1;32m<ipython-input-9-1a1a080e2fc5>\u001b[0m in \u001b[0;36m<module>\u001b[1;34m\u001b[0m\n\u001b[0;32m      2\u001b[0m \u001b[0mPOINTS_IN_3D_2\u001b[0m\u001b[1;33m,\u001b[0m \u001b[0mDEPTH_VALUES_2\u001b[0m  \u001b[1;33m=\u001b[0m \u001b[0mprojections\u001b[0m\u001b[1;33m.\u001b[0m\u001b[0mload_3d_scene\u001b[0m\u001b[1;33m(\u001b[0m\u001b[0mPATH_TO_SAVE_SCENE\u001b[0m\u001b[1;33m)\u001b[0m\u001b[1;33m\u001b[0m\u001b[1;33m\u001b[0m\u001b[0m\n\u001b[0;32m      3\u001b[0m \u001b[1;33m\u001b[0m\u001b[0m\n\u001b[1;32m----> 4\u001b[1;33m \u001b[0mprojections\u001b[0m\u001b[1;33m.\u001b[0m\u001b[0mplot_3d_scene\u001b[0m\u001b[1;33m(\u001b[0m\u001b[0mFIG_SIMULATION\u001b[0m\u001b[1;33m,\u001b[0m \u001b[0mPOINTS_IN_3D_2\u001b[0m\u001b[1;33m,\u001b[0m \u001b[0mDEPTH_VALUES_2\u001b[0m\u001b[1;33m)\u001b[0m\u001b[1;33m\u001b[0m\u001b[1;33m\u001b[0m\u001b[0m\n\u001b[0m",
      "\u001b[1;32m~\\Documents\\GitHub\\DepthEstimationAnd3DMapping\\utils\\projections.py\u001b[0m in \u001b[0;36mplot_3d_scene\u001b[1;34m(fig, points_in_3d, depth_values)\u001b[0m\n\u001b[0;32m    323\u001b[0m \u001b[1;33m\u001b[0m\u001b[0m\n\u001b[0;32m    324\u001b[0m     \u001b[1;31m# get colormap\u001b[0m\u001b[1;33m\u001b[0m\u001b[1;33m\u001b[0m\u001b[1;33m\u001b[0m\u001b[0m\n\u001b[1;32m--> 325\u001b[1;33m     \u001b[0mmin_projection_value\u001b[0m \u001b[1;33m=\u001b[0m \u001b[0mmin\u001b[0m\u001b[1;33m(\u001b[0m\u001b[0mDEPTH_VALUES\u001b[0m\u001b[1;33m)\u001b[0m\u001b[1;33m\u001b[0m\u001b[1;33m\u001b[0m\u001b[0m\n\u001b[0m\u001b[0;32m    326\u001b[0m     \u001b[0mmax_projection_value\u001b[0m \u001b[1;33m=\u001b[0m \u001b[0mmax\u001b[0m\u001b[1;33m(\u001b[0m\u001b[0mDEPTH_VALUES\u001b[0m\u001b[1;33m)\u001b[0m\u001b[1;33m\u001b[0m\u001b[1;33m\u001b[0m\u001b[0m\n\u001b[0;32m    327\u001b[0m     \u001b[0mdepth_values_normalized\u001b[0m \u001b[1;33m=\u001b[0m \u001b[0mDEPTH_VALUES\u001b[0m\u001b[1;33m/\u001b[0m\u001b[0mmax_projection_value\u001b[0m\u001b[1;33m\u001b[0m\u001b[1;33m\u001b[0m\u001b[0m\n",
      "\u001b[1;31mNameError\u001b[0m: name 'DEPTH_VALUES' is not defined"
     ]
    }
   ],
   "source": [
    "FIG_SIMULATION = plt.figure()\n",
    "POINTS_IN_3D_2, DEPTH_VALUES_2  = projections.load_3d_scene(PATH_TO_SAVE_SCENE)\n",
    "\n",
    "projections.plot_3d_scene(FIG_SIMULATION, POINTS_IN_3D_2, DEPTH_VALUES_2)"
   ]
  },
  {
   "cell_type": "code",
   "execution_count": null,
   "metadata": {},
   "outputs": [],
   "source": []
  }
 ],
 "metadata": {
  "kernelspec": {
   "display_name": "Python 3",
   "language": "python",
   "name": "python3"
  },
  "language_info": {
   "codemirror_mode": {
    "name": "ipython",
    "version": 3
   },
   "file_extension": ".py",
   "mimetype": "text/x-python",
   "name": "python",
   "nbconvert_exporter": "python",
   "pygments_lexer": "ipython3",
   "version": "3.8.5"
  }
 },
 "nbformat": 4,
 "nbformat_minor": 4
}
