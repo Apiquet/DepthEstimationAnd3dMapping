{
 "cells": [
  {
   "cell_type": "code",
   "execution_count": 1,
   "metadata": {},
   "outputs": [],
   "source": [
    "%load_ext autoreload\n",
    "%autoreload 2"
   ]
  },
  {
   "cell_type": "markdown",
   "metadata": {},
   "source": [
    "# Imports"
   ]
  },
  {
   "cell_type": "code",
   "execution_count": 2,
   "metadata": {},
   "outputs": [],
   "source": [
    "import argparse\n",
    "from threading import Thread\n",
    "import re\n",
    "import time\n",
    "\n",
    "import cv2\n",
    "import matplotlib.pyplot as plt\n",
    "import numpy as np\n",
    "import serial\n",
    "\n",
    "from utils import depth_manager\n",
    "from utils import projections"
   ]
  },
  {
   "cell_type": "code",
   "execution_count": 3,
   "metadata": {},
   "outputs": [],
   "source": [
    "%matplotlib qt"
   ]
  },
  {
   "cell_type": "code",
   "execution_count": 4,
   "metadata": {},
   "outputs": [],
   "source": [
    "# connect to the Serial\n",
    "SERIAL_CONNECTION = serial.Serial('COM3', 9600)\n",
    "time.sleep(2)"
   ]
  },
  {
   "cell_type": "markdown",
   "metadata": {},
   "source": [
    "# Utils"
   ]
  },
  {
   "cell_type": "code",
   "execution_count": 5,
   "metadata": {},
   "outputs": [],
   "source": [
    "def parse_serial(serial_msg):\n",
    "    \"\"\"\n",
    "    Function to parse serial data to extract float values\n",
    "    format 'x:19.34 y:23.01 z:-33.83' to x, y, z float values\n",
    "\n",
    "    Args:\n",
    "        - (str) string with format 'x:19.34 y:23.01 z:-33.83'\n",
    "    Return:\n",
    "        - (list) x, y, z float values\n",
    "    \"\"\"\n",
    "    xyz_list = re.findall('[-+]?[0-9]*\\.?[0-9]*', serial_msg)\n",
    "    return [float(i) for i in filter(lambda item: item, xyz_list)]"
   ]
  },
  {
   "cell_type": "code",
   "execution_count": 6,
   "metadata": {},
   "outputs": [],
   "source": [
    "def update_orientation(ser):\n",
    "    \"\"\"\n",
    "    Function to integration the x data from the Gyroscope\n",
    "    and update the global variable x_orientation with the new value\n",
    "\n",
    "    Args:\n",
    "        - (serial.Serial) serial to get the gyroscope data\n",
    "    \"\"\"\n",
    "    global X_ORIENTATION\n",
    "\n",
    "    while True:\n",
    "        serial_msg_bytes = ser.readline()\n",
    "        serial_msg = serial_msg_bytes.decode()\n",
    "        dx, dy, dz = parse_serial(serial_msg)\n",
    "        \n",
    "        # The gyroscope values are in degrees-per-second\n",
    "        # divide each value by the number of samples per second\n",
    "        dx_normalized = dx / GYROSCOPE_SAMPLE_RATE\n",
    "\n",
    "        # remove noise\n",
    "        if abs(dx_normalized) > 0.004:\n",
    "            # update orientation\n",
    "            X_ORIENTATION = X_ORIENTATION - dx_normalized*1.25\n",
    "            X_ORIENTATION = X_ORIENTATION%360"
   ]
  },
  {
   "cell_type": "markdown",
   "metadata": {},
   "source": [
    "# Update orientation in real time"
   ]
  },
  {
   "cell_type": "code",
   "execution_count": 7,
   "metadata": {},
   "outputs": [],
   "source": [
    "# initialize x orientation\n",
    "X_ORIENTATION = 0\n",
    "\n",
    "# 119 got from Arduino with IMU.gyroscopeSampleRate();\n",
    "GYROSCOPE_SAMPLE_RATE = 119"
   ]
  },
  {
   "cell_type": "code",
   "execution_count": 8,
   "metadata": {},
   "outputs": [],
   "source": [
    "# run the thread to update the x orientation in real time\n",
    "Thread(target=update_orientation, args=(SERIAL_CONNECTION,)).start()"
   ]
  },
  {
   "cell_type": "markdown",
   "metadata": {},
   "source": [
    "# Get depth image and do projection"
   ]
  },
  {
   "cell_type": "code",
   "execution_count": 9,
   "metadata": {},
   "outputs": [],
   "source": [
    "INTERPRETER = depth_manager.get_tflite_interpreter(\n",
    "    \"https://tfhub.dev/intel/lite-model/midas/v2_1_small/1/lite/1?lite-format=tflite\",\n",
    "    \"model/midas_v2_1_small.tflite\")"
   ]
  },
  {
   "cell_type": "markdown",
   "metadata": {},
   "source": [
    "# Input image"
   ]
  },
  {
   "cell_type": "code",
   "execution_count": 10,
   "metadata": {},
   "outputs": [],
   "source": [
    "IMG_FROM_WEBCAM = True\n",
    "\n",
    "if IMG_FROM_WEBCAM:\n",
    "    VID = cv2.VideoCapture(0)\n",
    "    # get first image for depth calculation\n",
    "    ret, frame = VID.read()\n",
    "    RGB_IMG = cv2.cvtColor(frame, cv2.COLOR_BGR2RGB)\n",
    "else:\n",
    "    # Get input image from disk\n",
    "    IMG = cv2.imread('images/dog.jpg')\n",
    "    RGB_IMG = cv2.cvtColor(IMG, cv2.COLOR_BGR2RGB)"
   ]
  },
  {
   "cell_type": "markdown",
   "metadata": {},
   "source": [
    "# Calcul projection in real time"
   ]
  },
  {
   "cell_type": "code",
   "execution_count": 11,
   "metadata": {},
   "outputs": [],
   "source": [
    "PATH_TO_SAVE_SCENE = \"3d_scene/\""
   ]
  },
  {
   "cell_type": "code",
   "execution_count": 48,
   "metadata": {},
   "outputs": [],
   "source": [
    "POINTS_IN_3D = np.array([])\n",
    "DEPTH_VALUES = []\n",
    "\n",
    "PROJECT_DEPTH = True\n",
    "\n",
    "DEGREES_INTERVAL = 300\n",
    "\n",
    "ORIENTATIONS_DONE = []\n",
    "ORIENTATIONS_TODO = [orientation for orientation\n",
    "                     in range(0, 359, DEGREES_INTERVAL)]\n",
    "\n",
    "DEPTH_MAP = depth_manager.run_tflite_interpreter(RGB_IMG, INTERPRETER)\n",
    "\n",
    "OVERLAPS_IMG_DEPTH = {}\n",
    "CORNERS_DISTANCE = {}\n",
    "DEPTH_MAPS = {}\n",
    "IMAGES = {}\n",
    "\n",
    "PERCENTAGE_MARGIN_ON_DEPTH = 2"
   ]
  },
  {
   "cell_type": "code",
   "execution_count": 49,
   "metadata": {},
   "outputs": [
    {
     "name": "stdin",
     "output_type": "stream",
     "text": [
      "Min distance:  5\n",
      "Max distance:  15\n",
      "Min distance:  5\n",
      "Max distance:  45\n"
     ]
    }
   ],
   "source": [
    "FIG_SIMULATION = plt.figure()\n",
    "\n",
    "try:\n",
    "    while True:\n",
    "        if IMG_FROM_WEBCAM:\n",
    "            ret, frame = VID.read()\n",
    "            RGB_IMG = cv2.cvtColor(frame, cv2.COLOR_BGR2RGB)\n",
    "\n",
    "        if ret:\n",
    "            DEPTH_MAP, POINTS_IN_3D, DEPTH_VALUES, IMAGES, DEPTH_MAPS, OVERLAPS_IMG_DEPTH = \\\n",
    "                projections.plot_env(\n",
    "                    FIG_SIMULATION, X_ORIENTATION, POINTS_IN_3D, DEPTH_VALUES,\n",
    "                    RGB_IMG, INTERPRETER, ORIENTATIONS_DONE,\n",
    "                    ORIENTATIONS_TODO, DEPTH_MAP, IMAGES, DEPTH_MAPS, OVERLAPS_IMG_DEPTH,\n",
    "                    CORNERS_DISTANCE, per_mil_to_keep=1, project_depth=PROJECT_DEPTH,\n",
    "                    percentage_margin_on_depth=PERCENTAGE_MARGIN_ON_DEPTH)\n",
    "\n",
    "        # stop if all todo orientations were done\n",
    "        if not ORIENTATIONS_TODO:\n",
    "            projections.save_3d_scene(PATH_TO_SAVE_SCENE, POINTS_IN_3D, DEPTH_VALUES,\n",
    "                                      IMAGES, DEPTH_MAPS, OVERLAPS_IMG_DEPTH)\n",
    "\n",
    "            plt.gcf().clear()\n",
    "            projections.plot_3d_scene(FIG_SIMULATION, POINTS_IN_3D, DEPTH_VALUES)\n",
    "            break\n",
    "except KeyboardInterrupt:\n",
    "    pass"
   ]
  },
  {
   "cell_type": "markdown",
   "metadata": {},
   "source": [
    "# Display saved scene"
   ]
  },
  {
   "cell_type": "code",
   "execution_count": 50,
   "metadata": {},
   "outputs": [],
   "source": [
    "FIG_SIMULATION = plt.figure()\n",
    "SAVED_POINTS_IN_3D, SAVED_DEPTH_VALUES, SAVED_IMAGES,\\\n",
    "    SAVED_DEPTH_MAPS, SAVED_OVERLAPS = projections.load_3d_scene(\"3d_scene/\")\n",
    "\n",
    "projections.plot_3d_scene(FIG_SIMULATION, SAVED_POINTS_IN_3D, SAVED_DEPTH_VALUES)"
   ]
  },
  {
   "cell_type": "code",
   "execution_count": 53,
   "metadata": {},
   "outputs": [
    {
     "data": {
      "text/plain": [
       "<matplotlib.image.AxesImage at 0x246a6f22af0>"
      ]
     },
     "execution_count": 53,
     "metadata": {},
     "output_type": "execute_result"
    }
   ],
   "source": [
    "plt.imshow(IMAGES[0])"
   ]
  },
  {
   "cell_type": "code",
   "execution_count": null,
   "metadata": {},
   "outputs": [],
   "source": []
  }
 ],
 "metadata": {
  "kernelspec": {
   "display_name": "Python 3",
   "language": "python",
   "name": "python3"
  },
  "language_info": {
   "codemirror_mode": {
    "name": "ipython",
    "version": 3
   },
   "file_extension": ".py",
   "mimetype": "text/x-python",
   "name": "python",
   "nbconvert_exporter": "python",
   "pygments_lexer": "ipython3",
   "version": "3.8.5"
  }
 },
 "nbformat": 4,
 "nbformat_minor": 4
}
